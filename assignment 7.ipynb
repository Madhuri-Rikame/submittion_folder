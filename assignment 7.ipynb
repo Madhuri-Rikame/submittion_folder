{
 "cells": [
  {
   "cell_type": "code",
   "execution_count": 2,
   "metadata": {},
   "outputs": [
    {
     "name": "stdout",
     "output_type": "stream",
     "text": [
      "C:\\Users\\Madhuri\\OneDrive\\Desktop\\msc project\\01 Call-Center-Dataset.csv\n",
      "C:\\Users\\Madhuri\\OneDrive\\Desktop\\msc project\\01 Call-Center-Dataset.csv 322.948 kb\n",
      "medium file\n",
      "C:\\Users\\Madhuri\\OneDrive\\Desktop\\msc project\\assignment 4,8.ipynb\n",
      "C:\\Users\\Madhuri\\OneDrive\\Desktop\\msc project\\assignment 4,8.ipynb 3.415 kb\n",
      "small file\n",
      "C:\\Users\\Madhuri\\OneDrive\\Desktop\\msc project\\assignment 5.ipynb\n",
      "C:\\Users\\Madhuri\\OneDrive\\Desktop\\msc project\\assignment 5.ipynb 1.19 kb\n",
      "small file\n",
      "C:\\Users\\Madhuri\\OneDrive\\Desktop\\msc project\\cinemaTicket_Ref.csv\n",
      "C:\\Users\\Madhuri\\OneDrive\\Desktop\\msc project\\cinemaTicket_Ref.csv 11243.61 kb\n",
      "large file\n",
      "C:\\Users\\Madhuri\\OneDrive\\Desktop\\msc project\\crop production stat.csv\n",
      "C:\\Users\\Madhuri\\OneDrive\\Desktop\\msc project\\crop production stat.csv 21143.323 kb\n",
      "large file\n",
      "C:\\Users\\Madhuri\\OneDrive\\Desktop\\msc project\\GDP_Dataset.xlsx\n",
      "C:\\Users\\Madhuri\\OneDrive\\Desktop\\msc project\\GDP_Dataset.xlsx 33.111 kb\n",
      "small file\n",
      "C:\\Users\\Madhuri\\OneDrive\\Desktop\\msc project\\Gold stock dataset.csv\n",
      "C:\\Users\\Madhuri\\OneDrive\\Desktop\\msc project\\Gold stock dataset.csv 114.922 kb\n",
      "large file\n",
      "C:\\Users\\Madhuri\\OneDrive\\Desktop\\msc project\\HR ATTRITION DASHBOARD.pbix\n",
      "C:\\Users\\Madhuri\\OneDrive\\Desktop\\msc project\\HR ATTRITION DASHBOARD.pbix 161.004 kb\n",
      "large file\n",
      "C:\\Users\\Madhuri\\OneDrive\\Desktop\\msc project\\hR.pbix\n",
      "C:\\Users\\Madhuri\\OneDrive\\Desktop\\msc project\\hR.pbix 142.054 kb\n",
      "large file\n",
      "C:\\Users\\Madhuri\\OneDrive\\Desktop\\msc project\\HR_Analytics.csv\n",
      "C:\\Users\\Madhuri\\OneDrive\\Desktop\\msc project\\HR_Analytics.csv 258.595 kb\n",
      "medium file\n",
      "C:\\Users\\Madhuri\\OneDrive\\Desktop\\msc project\\ML PPT project.pptx\n",
      "C:\\Users\\Madhuri\\OneDrive\\Desktop\\msc project\\ML PPT project.pptx 14032.275 kb\n",
      "large file\n",
      "C:\\Users\\Madhuri\\OneDrive\\Desktop\\msc project\\new_log.log\n",
      "C:\\Users\\Madhuri\\OneDrive\\Desktop\\msc project\\new_log.log 0.602 kb\n",
      "small file\n",
      "C:\\Users\\Madhuri\\OneDrive\\Desktop\\msc project\\python_exam_Biz - Copy.ipynb\n",
      "C:\\Users\\Madhuri\\OneDrive\\Desktop\\msc project\\python_exam_Biz - Copy.ipynb 8.267 kb\n",
      "small file\n",
      "C:\\Users\\Madhuri\\OneDrive\\Desktop\\msc project\\python_exam_Biz.ipynb\n",
      "C:\\Users\\Madhuri\\OneDrive\\Desktop\\msc project\\python_exam_Biz.ipynb 8.271 kb\n",
      "small file\n",
      "C:\\Users\\Madhuri\\OneDrive\\Desktop\\msc project\\regression project1.pptx\n",
      "C:\\Users\\Madhuri\\OneDrive\\Desktop\\msc project\\regression project1.pptx 5248.958 kb\n",
      "large file\n",
      "C:\\Users\\Madhuri\\OneDrive\\Desktop\\msc project\\shinchan-aesthetic-sx67mtfbscj4dtmp.jpg\n",
      "C:\\Users\\Madhuri\\OneDrive\\Desktop\\msc project\\shinchan-aesthetic-sx67mtfbscj4dtmp.jpg 100.82 kb\n",
      "large file\n",
      "C:\\Users\\Madhuri\\OneDrive\\Desktop\\msc project\\TM.txt\n",
      "C:\\Users\\Madhuri\\OneDrive\\Desktop\\msc project\\TM.txt 0.804 kb\n",
      "small file\n",
      "C:\\Users\\Madhuri\\OneDrive\\Desktop\\msc project\\zomato.csv.zip\n",
      "C:\\Users\\Madhuri\\OneDrive\\Desktop\\msc project\\zomato.csv.zip 443.953 kb\n",
      "medium file\n"
     ]
    }
   ],
   "source": [
    "for i in os.listdir(\"C:\\\\Users\\\\Madhuri\\\\OneDrive\\\\Desktop\\\\msc project\"):\n",
    "   \n",
    "    filename=\"C:\\\\Users\\\\Madhuri\\\\OneDrive\\\\Desktop\\\\msc project\\\\\"+i\n",
    "    print(filename)\n",
    "    sz=os.stat(filename).st_size/1000\n",
    "    print(filename,sz,\"kb\")\n",
    "\n",
    "    if sz <= 50:\n",
    "        shutil.copy(filename,\"C:\\\\Users\\\\Madhuri\\\\OneDrive\\\\Desktop\\\\New folder\\\\small\\\\small\")\n",
    "        print(\"small file\")\n",
    "    elif 200 < sz <=500:\n",
    "        shutil.copy(filename,\"C:\\\\Users\\\\Madhuri\\\\OneDrive\\\\Desktop\\\\New folder\\\\small\\\\medium\")    \n",
    "        print(\"medium file\")\n",
    "    else:\n",
    "        shutil.copy(filename,\"C:\\\\Users\\\\Madhuri\\\\OneDrive\\\\Desktop\\\\New folder\\\\small\\\\large\")\n",
    "        print(\"large file\")"
   ]
  },
  {
   "cell_type": "code",
   "execution_count": 1,
   "metadata": {},
   "outputs": [],
   "source": [
    "import shutil\n",
    "import os"
   ]
  }
 ],
 "metadata": {
  "kernelspec": {
   "display_name": "Python 3",
   "language": "python",
   "name": "python3"
  },
  "language_info": {
   "codemirror_mode": {
    "name": "ipython",
    "version": 3
   },
   "file_extension": ".py",
   "mimetype": "text/x-python",
   "name": "python",
   "nbconvert_exporter": "python",
   "pygments_lexer": "ipython3",
   "version": "3.12.4"
  }
 },
 "nbformat": 4,
 "nbformat_minor": 2
}
