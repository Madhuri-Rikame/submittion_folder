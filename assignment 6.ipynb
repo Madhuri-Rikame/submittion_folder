{
 "cells": [
  {
   "cell_type": "markdown",
   "metadata": {},
   "source": [
    "Q.6 Calculate the age based on the date entered "
   ]
  },
  {
   "cell_type": "code",
   "execution_count": 1,
   "metadata": {},
   "outputs": [],
   "source": [
    "from datetime import  datetime\n",
    "from datetime import  date\n",
    "from datetime import  time"
   ]
  },
  {
   "cell_type": "code",
   "execution_count": 9,
   "metadata": {},
   "outputs": [
    {
     "name": "stdout",
     "output_type": "stream",
     "text": [
      "Your age is: 22\n"
     ]
    }
   ],
   "source": [
    "year=int(input(\"enter year\"))\n",
    "month=int(input(\"enter month\"))\n",
    "day=int(input(\"enter day\"))\n",
    "\n",
    "try:\n",
    "     date_of_birth=datetime(year,month,day)\n",
    "\n",
    "except ValueError:\n",
    "     print(\"Invalide date\")\n",
    "     exit()\n",
    "current_date=datetime.now()\n",
    "\n",
    "age=current_date.year-date_of_birth.year\n",
    "if (current_date.month,current_date.day)<(date_of_birth.month,date_of_birth.day):\n",
    "    age-=1\n",
    "\n",
    "print(f\"Your age is: {age}\")"
   ]
  },
  {
   "cell_type": "code",
   "execution_count": 4,
   "metadata": {},
   "outputs": [],
   "source": [
    "\n"
   ]
  }
 ],
 "metadata": {
  "kernelspec": {
   "display_name": "Python 3",
   "language": "python",
   "name": "python3"
  },
  "language_info": {
   "codemirror_mode": {
    "name": "ipython",
    "version": 3
   },
   "file_extension": ".py",
   "mimetype": "text/x-python",
   "name": "python",
   "nbconvert_exporter": "python",
   "pygments_lexer": "ipython3",
   "version": "3.12.4"
  }
 },
 "nbformat": 4,
 "nbformat_minor": 2
}
