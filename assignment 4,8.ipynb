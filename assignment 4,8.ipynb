{
 "cells": [
  {
   "cell_type": "code",
   "execution_count": null,
   "metadata": {},
   "outputs": [],
   "source": []
  },
  {
   "cell_type": "markdown",
   "metadata": {},
   "source": [
    "Question: 4\n"
   ]
  },
  {
   "cell_type": "code",
   "execution_count": null,
   "metadata": {},
   "outputs": [],
   "source": [
    "import re\n",
    "n= lambda name : name.isalpha() and len(name) > 0\n",
    "p= lambda phone : phone.isdigit() and len(phone)==10\n",
    "e= lambda email : re.findall(r'[\\w\\.-]+@[\\w\\.-]+\\.\\w+',email)\n",
    "#e= lambda email : re.finadall(\"^[A-z,0-9][a-z]*.*gmail.com\",email)\n",
    "\n",
    "def valid_input(txt, validate,msg):\n",
    "    while True:\n",
    "        user= input(txt)\n",
    "        if validate(user):\n",
    "            return user\n",
    "        else:\n",
    "            print(msg)\n",
    "name=valid_input(\"Enter the name: \",n,\"INVALID\")\n",
    "phone=valid_input(\"enter the number:\",p,\"must be 10 num\")\n",
    "email=valid_input(\"enter tehe email:: \",e,\"Invalid\")\n",
    "sorted_data={'name':name,'phone':phone,'email':email}\n",
    "print(sorted_data)  \n"
   ]
  },
  {
   "cell_type": "code",
   "execution_count": null,
   "metadata": {},
   "outputs": [],
   "source": []
  },
  {
   "cell_type": "markdown",
   "metadata": {},
   "source": [
    "Question 7 :"
   ]
  },
  {
   "cell_type": "code",
   "execution_count": 5,
   "metadata": {},
   "outputs": [],
   "source": [
    "import logging\n",
    "from datetime import datetime\n",
    "\n",
    "logging.basicConfig(level=logging.INFO, format=\"%(asctime)s - %(message)s\")\n",
    "\n"
   ]
  },
  {
   "cell_type": "code",
   "execution_count": 6,
   "metadata": {},
   "outputs": [
    {
     "name": "stderr",
     "output_type": "stream",
     "text": [
      "2025-01-21 10:03:41,435 - INFO - Valid DOB provided.\n",
      "2025-01-21 10:03:41,441 - INFO - Calculated Age: 22\n"
     ]
    },
    {
     "name": "stdout",
     "output_type": "stream",
     "text": [
      "Your age is: 22 years\n"
     ]
    }
   ],
   "source": [
    "class AgeCalculator:\n",
    "    def __init__(self, dob):\n",
    "        try:\n",
    "            self.dob = datetime.strptime(dob, \"%Y-%m-%d\")\n",
    "            logging.info(\"Valid DOB provided.\")\n",
    "        except ValueError:\n",
    "            logging.error(\"Invalid DOB format. Expected YYYY-MM-DD.\")\n",
    "            raise\n",
    "\n",
    "    def calculate_age(self):\n",
    "        today = datetime.today()\n",
    "        age = today.year - self.dob.year - ((today.month, today.day) < (self.dob.month, self.dob.day))\n",
    "        logging.info(f\"Calculated Age: {age}\")\n",
    "        return age\n",
    "try:\n",
    "    dob = input(\"Enter DOB (YYYY-MM-DD): \")\n",
    "    print(f\"Your age is: {AgeCalculator(dob).calculate_age()} years\")\n",
    "except Exception as e:\n",
    "    logging.error(f\"Error: {e}\")\n"
   ]
  }
 ],
 "metadata": {
  "kernelspec": {
   "display_name": "Python 3",
   "language": "python",
   "name": "python3"
  },
  "language_info": {
   "codemirror_mode": {
    "name": "ipython",
    "version": 3
   },
   "file_extension": ".py",
   "mimetype": "text/x-python",
   "name": "python",
   "nbconvert_exporter": "python",
   "pygments_lexer": "ipython3",
   "version": "3.12.4"
  }
 },
 "nbformat": 4,
 "nbformat_minor": 2
}
