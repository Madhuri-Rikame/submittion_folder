{
 "cells": [
  {
   "cell_type": "code",
   "execution_count": 1,
   "metadata": {},
   "outputs": [
    {
     "name": "stdout",
     "output_type": "stream",
     "text": [
      "Name:  madhuri\n",
      "You are eligible 22\n"
     ]
    }
   ],
   "source": [
    "valid_name= lambda x:x.isalpha()\n",
    "valid_age= lambda x: x>=18 and x<=40\n",
    "\n",
    "name=input(\"Enter the name:\")\n",
    "if valid_name(name):\n",
    "    print(\"Name: \",name)\n",
    "    \n",
    "else:\n",
    "    print(\"Invalid Name, Please enter valid name\")\n",
    "    \n",
    "age=int(input(\"Enter the age:\"))\n",
    "if valid_age(age):\n",
    "    print(\"You are eligible\",age)\n",
    "else:\n",
    "    print(\"You are not eligible\")"
   ]
  }
 ],
 "metadata": {
  "kernelspec": {
   "display_name": "Python 3",
   "language": "python",
   "name": "python3"
  },
  "language_info": {
   "codemirror_mode": {
    "name": "ipython",
    "version": 3
   },
   "file_extension": ".py",
   "mimetype": "text/x-python",
   "name": "python",
   "nbconvert_exporter": "python",
   "pygments_lexer": "ipython3",
   "version": "3.12.4"
  }
 },
 "nbformat": 4,
 "nbformat_minor": 2
}
