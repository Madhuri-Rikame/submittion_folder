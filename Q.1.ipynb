{
 "cells": [
  {
   "cell_type": "markdown",
   "metadata": {},
   "source": [
    "Question:1"
   ]
  },
  {
   "cell_type": "code",
   "execution_count": 1,
   "metadata": {},
   "outputs": [
    {
     "name": "stdout",
     "output_type": "stream",
     "text": [
      "charactors:  ['mad', 'glad', 'sad', 'slice']\n",
      "numbers:  [1, 2, 3, 4, 6, 8]\n"
     ]
    }
   ],
   "source": [
    "list1=[1,2,3,4,'mad','glad','sad',6,8,'slice']\n",
    "\n",
    "\n",
    "char=[]\n",
    "num=[]\n",
    "for i in list1:\n",
    "    if type(i)==str:\n",
    "        char.append(i)\n",
    "    else:\n",
    "        num.append(i)\n",
    "\n",
    "\n",
    "print(\"charactors: \", char)\n",
    "print(\"numbers: \",num)"
   ]
  },
  {
   "cell_type": "code",
   "execution_count": 2,
   "metadata": {},
   "outputs": [
    {
     "name": "stdout",
     "output_type": "stream",
     "text": [
      "charactor in the list are:  ['mad', 'glad', 'sad', 'slice']\n",
      "Numbers in the list:  [1, 2, 3, 4, 6, 8]\n"
     ]
    }
   ],
   "source": [
    "list1=[1,2,3,4,'mad','glad','sad',6,8,'slice']\n",
    "\n",
    "char=list(filter(lambda x: isinstance(x,str),list1))\n",
    "num=list(filter(lambda x: not isinstance(x,str),list1))\n",
    "\n",
    "print(\"charactor in the list are: \",char)\n",
    "print(\"Numbers in the list: \",num)"
   ]
  },
  {
   "cell_type": "code",
   "execution_count": 1,
   "metadata": {},
   "outputs": [
    {
     "name": "stdout",
     "output_type": "stream",
     "text": [
      "24\n"
     ]
    }
   ],
   "source": []
  }
 ],
 "metadata": {
  "kernelspec": {
   "display_name": "Python 3",
   "language": "python",
   "name": "python3"
  },
  "language_info": {
   "codemirror_mode": {
    "name": "ipython",
    "version": 3
   },
   "file_extension": ".py",
   "mimetype": "text/x-python",
   "name": "python",
   "nbconvert_exporter": "python",
   "pygments_lexer": "ipython3",
   "version": "3.12.4"
  }
 },
 "nbformat": 4,
 "nbformat_minor": 2
}
