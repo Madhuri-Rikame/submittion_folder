{
 "cells": [
  {
   "cell_type": "markdown",
   "metadata": {},
   "source": [
    "1. Create the empty list and ask user to enters only int, float elements in the list."
   ]
  },
  {
   "cell_type": "code",
   "execution_count": null,
   "metadata": {},
   "outputs": [
    {
     "name": "stdout",
     "output_type": "stream",
     "text": [
      "list [3.5]\n"
     ]
    }
   ],
   "source": [
    "list1=[]\n",
    "user= input('Enter the number:')\n",
    "try:\n",
    "    num= float(user)\n",
    "    l= list1.append(num)\n",
    "    \n",
    "except:\n",
    "    print(\"Invalid \")\n",
    "print('list : ',list1)\n"
   ]
  },
  {
   "cell_type": "markdown",
   "metadata": {},
   "source": [
    "2. Create a empty dictionary d1 ask user to enter the values using loop"
   ]
  },
  {
   "cell_type": "code",
   "execution_count": 25,
   "metadata": {},
   "outputs": [
    {
     "name": "stdout",
     "output_type": "stream",
     "text": [
      "{'1': '22'}\n"
     ]
    }
   ],
   "source": [
    "d1 = {}\n",
    "d=int(input(\"Enter number of entries: \"))\n",
    "for i in range(d):\n",
    "    k=input(\"Key: \")\n",
    "    d1[k] = input(\"Value: \")\n",
    "print(d1)\n"
   ]
  },
  {
   "cell_type": "markdown",
   "metadata": {},
   "source": [
    "3. Create a empty dictionary d1 ask user to enter the values using comprehensive list"
   ]
  },
  {
   "cell_type": "code",
   "execution_count": 15,
   "metadata": {},
   "outputs": [
    {
     "name": "stdout",
     "output_type": "stream",
     "text": [
      "{0: '4', 1: '7', 2: '9'}\n"
     ]
    }
   ],
   "source": [
    "d1={i: input(\"enter the value \") for i in range(3)}\n",
    "print(d1)"
   ]
  },
  {
   "cell_type": "markdown",
   "metadata": {},
   "source": [
    "4. Create a function which will accept two integer or float parameter from user and return 4 arithmetic operations in the form of tuple. If user pass argument other than integer and float then error should be created."
   ]
  },
  {
   "cell_type": "code",
   "execution_count": 1,
   "metadata": {},
   "outputs": [
    {
     "name": "stdout",
     "output_type": "stream",
     "text": [
      "(3, 7, 10, 2.5)\n"
     ]
    }
   ],
   "source": [
    "def arithmetic_operation(a,b):\n",
    "    if isinstance(a,(int,float)) and isinstance(b,(int,float)):\n",
    "        return a-b,a+b, a*b, a/b if b!=0 else 'cannot divide by zero....'\n",
    "    else:\n",
    "        return 'Error Occured '\n",
    "print(arithmetic_operation(5,2))"
   ]
  },
  {
   "cell_type": "markdown",
   "metadata": {},
   "source": [
    "5. Based on the above function (Question number 4) dived the outcome of multiplication by 2."
   ]
  },
  {
   "cell_type": "code",
   "execution_count": null,
   "metadata": {},
   "outputs": [
    {
     "name": "stdout",
     "output_type": "stream",
     "text": [
      "10 2\n"
     ]
    }
   ],
   "source": [
    "result=arithmetic_operation(5,2)\n",
    "if isinstance(result,tuple):\n",
    "    print(result[2],2)   ## index at 2"
   ]
  },
  {
   "cell_type": "markdown",
   "metadata": {},
   "source": [
    "6. create a function to add only string element in a list. if other than string display the appropriate message."
   ]
  },
  {
   "cell_type": "code",
   "execution_count": 12,
   "metadata": {},
   "outputs": [
    {
     "name": "stdout",
     "output_type": "stream",
     "text": [
      "['String is entered ..']\n",
      "Only strings are allowed!! \n"
     ]
    }
   ],
   "source": [
    "l=[]\n",
    "\n",
    "def add_string(lst,value):\n",
    "    if isinstance(value,str):\n",
    "        lst.append(value)\n",
    "    else:\n",
    "        print(\"Only strings are allowed!! \") \n",
    "\n",
    "\n",
    "add_string(l,'String is entered ..')\n",
    "print(l)\n",
    "\n",
    "add_string(l,12)\n"
   ]
  },
  {
   "cell_type": "markdown",
   "metadata": {},
   "source": [
    "7. Create a function to read the file and return the dictionary of total lines, total words"
   ]
  },
  {
   "cell_type": "code",
   "execution_count": 17,
   "metadata": {},
   "outputs": [
    {
     "name": "stdout",
     "output_type": "stream",
     "text": [
      "{'total_lines': 21, 'total_words': 173}\n"
     ]
    }
   ],
   "source": [
    "def file_stats(filename):\n",
    "    with open(filename, \"r\") as f:\n",
    "        lines = f.readlines()\n",
    "    return {\"total_lines\": len(lines), \"total_words\": sum(len(line.split()) for line in lines)}\n",
    "\n",
    "print(file_stats(\"C:\\\\Users\\\\Madhuri\\\\anaconda3\\\\Lib\\\\site-packages\\\\urllib3-1.26.9.dist-info\\\\LICENSE.txt\")) \n"
   ]
  },
  {
   "cell_type": "markdown",
   "metadata": {},
   "source": [
    "8. Create a function which will accept the dictionary and display key values in separate line."
   ]
  },
  {
   "cell_type": "code",
   "execution_count": 18,
   "metadata": {},
   "outputs": [
    {
     "name": "stdout",
     "output_type": "stream",
     "text": [
      "Key: a, Value: 1\n",
      "Key: b, Value: 2\n"
     ]
    }
   ],
   "source": [
    "def display_dict(d):\n",
    "    for k, v in d.items():\n",
    "        print(f\"Key: {k}, Value: {v}\")\n",
    "\n",
    "display_dict({\"a\": 1, \"b\": 2})\n"
   ]
  },
  {
   "cell_type": "markdown",
   "metadata": {},
   "source": [
    "9. Create a lambda function which will accept the dictionary and display key values in separate line."
   ]
  },
  {
   "cell_type": "code",
   "execution_count": 19,
   "metadata": {},
   "outputs": [
    {
     "name": "stdout",
     "output_type": "stream",
     "text": [
      "Key: x, Value: 10\n",
      "Key: y, Value: 20\n"
     ]
    },
    {
     "data": {
      "text/plain": [
       "[None, None]"
      ]
     },
     "execution_count": 19,
     "metadata": {},
     "output_type": "execute_result"
    }
   ],
   "source": [
    "display_dict_lambda = lambda d: [print(f\"Key: {k}, Value: {v}\") for k, v in d.items()]\n",
    "display_dict_lambda({\"x\": 10, \"y\": 20})\n"
   ]
  },
  {
   "cell_type": "markdown",
   "metadata": {},
   "source": [
    "10. Create a function to validate the password: password should contains at least one small letter, one capital letter, one number, and one special character except comma, quotes"
   ]
  },
  {
   "cell_type": "code",
   "execution_count": 20,
   "metadata": {},
   "outputs": [
    {
     "name": "stdout",
     "output_type": "stream",
     "text": [
      "True\n",
      "False\n"
     ]
    }
   ],
   "source": [
    "import re\n",
    "\n",
    "def validate_password(password):\n",
    "    pattern = r\"^(?=.*[a-z])(?=.*[A-Z])(?=.*\\d)(?=.*[@#$%^&*()-+!])[^\\',\\\"]{8,}$\"\n",
    "    return bool(re.match(pattern, password))\n",
    "\n",
    "print(validate_password(\"Pass@123\"))  # True\n",
    "print(validate_password(\"pass123\"))  # False\n"
   ]
  },
  {
   "cell_type": "markdown",
   "metadata": {},
   "source": [
    "11. Generate a decorator having logic to accept natural numbers . which can be used in a function of factorial"
   ]
  },
  {
   "cell_type": "code",
   "execution_count": 22,
   "metadata": {},
   "outputs": [
    {
     "name": "stdout",
     "output_type": "stream",
     "text": [
      "120\n"
     ]
    }
   ],
   "source": [
    "def natural_number_check(func):\n",
    "    def wrapper(n):\n",
    "        if isinstance(n, int) and n > 0:\n",
    "            return func(n)\n",
    "        else:\n",
    "            return \"Error: Only natural numbers allowed!\"\n",
    "    return wrapper\n",
    "\n",
    "@natural_number_check\n",
    "def factorial(n):\n",
    "    return 1 if n == 1 else n * factorial(n - 1)\n",
    "\n",
    "print(factorial(5))  \n",
    "\n"
   ]
  },
  {
   "cell_type": "markdown",
   "metadata": {},
   "source": [
    "12. Generate the decorator for a Garden visit to check if current time is between 7am to 7pm. If true the only call the function else generate the error.\n",
    "\n",
    "a. Function payment_check() is active only within given time span and it will check for all user transaction in that given month.\n",
    "\n",
    "b. Function entry() will be perform entry transaction of the user\n",
    "\n",
    "c. Function exit() will update the outtime of the user if entry exists"
   ]
  },
  {
   "cell_type": "code",
   "execution_count": 23,
   "metadata": {},
   "outputs": [
    {
     "name": "stdout",
     "output_type": "stream",
     "text": [
      "Access denied! Garden open only between 7 AM - 7 PM.\n"
     ]
    }
   ],
   "source": [
    "from datetime import datetime\n",
    "\n",
    "def garden_access(func):\n",
    "    def wrapper():\n",
    "        current_hour = datetime.now().hour\n",
    "        if 7 <= current_hour < 19:\n",
    "            return func()\n",
    "        else:\n",
    "            return \"Access denied! Garden open only between 7 AM - 7 PM.\"\n",
    "    return wrapper\n",
    "\n",
    "@garden_access\n",
    "def payment_check():\n",
    "    return \"Checking payments...\"\n",
    "\n",
    "print(payment_check())\n"
   ]
  },
  {
   "cell_type": "markdown",
   "metadata": {},
   "source": [
    "13. Create lambda function for sorting of the string"
   ]
  },
  {
   "cell_type": "code",
   "execution_count": 24,
   "metadata": {},
   "outputs": [
    {
     "name": "stdout",
     "output_type": "stream",
     "text": [
      "['apple', 'banana', 'cherry']\n"
     ]
    }
   ],
   "source": [
    "sort_strings = lambda lst: sorted(lst)\n",
    "print(sort_strings([\"apple\", \"banana\", \"cherry\"]))\n"
   ]
  },
  {
   "cell_type": "markdown",
   "metadata": {},
   "source": [
    "14. Create a generator which will generate runtime unique value as ABC0001, ABC0002, ABC0003…"
   ]
  },
  {
   "cell_type": "code",
   "execution_count": null,
   "metadata": {},
   "outputs": [
    {
     "name": "stdout",
     "output_type": "stream",
     "text": [
      "ABC0001\n",
      "ABC0002\n"
     ]
    }
   ],
   "source": [
    "def unique_generator():\n",
    "    count = 1\n",
    "    while True:\n",
    "        yield f\"ABC{count:04d}\"\n",
    "        count += 1\n",
    "\n",
    "gen = unique_generator()\n",
    "print(next(gen))  \n",
    "print(next(gen))\n"
   ]
  },
  {
   "cell_type": "markdown",
   "metadata": {},
   "source": [
    "15. Create a decorator to check if all input values are alpha numeric and based on it check PAN detail AAAAA1111X , rec.no first 3 chr next 5 number"
   ]
  },
  {
   "cell_type": "code",
   "execution_count": null,
   "metadata": {},
   "outputs": [
    {
     "name": "stdout",
     "output_type": "stream",
     "text": [
      "Valid PAN: ABCDE1234F\n",
      "Invalid PAN format!\n"
     ]
    }
   ],
   "source": [
    "import re\n",
    "\n",
    "def pan_validator(func):\n",
    "    def wrapper(pan):\n",
    "        if re.match(r\"^[A-Z]{5}\\d{4}[A-Z]$\", pan):\n",
    "            return func(pan)\n",
    "        else:\n",
    "            return \"Invalid PAN format!\"\n",
    "    return wrapper\n",
    "\n",
    "@pan_validator\n",
    "def check_pan(pan):\n",
    "    return f\"Valid PAN: {pan}\"\n",
    "\n",
    "print(check_pan(\"ABCDE1234F\")) \n",
    "print(check_pan(\"12345ABCDE\")) \n"
   ]
  },
  {
   "cell_type": "markdown",
   "metadata": {},
   "source": [
    "16. Accept 2 values from user and perform all arithmetic operations and return all"
   ]
  },
  {
   "cell_type": "code",
   "execution_count": 27,
   "metadata": {},
   "outputs": [
    {
     "name": "stdout",
     "output_type": "stream",
     "text": [
      "(12.0, 8.0, 20.0, 5.0)\n",
      "Error: Invalid input!\n"
     ]
    }
   ],
   "source": [
    "def arithmetic_operations(a, b):\n",
    "    try:\n",
    "        a, b = float(a), float(b)\n",
    "        return (a + b, a - b, a * b, a / b if b != 0 else \"Cannot divide by zero\")\n",
    "    except ValueError:\n",
    "        return \"Error: Invalid input!\"\n",
    "\n",
    "print(arithmetic_operations(10, 2))  \n",
    "print(arithmetic_operations(\"abc\", 5)) \n"
   ]
  },
  {
   "cell_type": "markdown",
   "metadata": {},
   "source": [
    "17. Ask user to enter any 3 input e.g name, marks , mobile_num\n",
    "\n",
    "if name is with other special characters then it should not not ask for next makrs input\n",
    "\n",
    "note:\n",
    "\n",
    "o Create separate functions for validation of every variable\n",
    "\n",
    "o Every single block should have proper exception\n",
    "\n",
    "o Every function must have the docstring\n",
    "\n",
    "o Once the validation is done dictionary has to be created and store the dictionary to one txt file"
   ]
  },
  {
   "cell_type": "code",
   "execution_count": 29,
   "metadata": {},
   "outputs": [],
   "source": [
    "import re\n",
    "\n",
    "def validate_name(name):\n",
    "    \"\"\"Validate that the name contains only letters and spaces.\"\"\"\n",
    "    if re.match(r\"^[A-Za-z ]+$\", name):\n",
    "        return True\n",
    "    return False\n",
    "\n"
   ]
  },
  {
   "cell_type": "code",
   "execution_count": 30,
   "metadata": {},
   "outputs": [],
   "source": [
    "def validate_marks(marks):\n",
    "    \"\"\"Validate that marks are numeric and between 0-100.\"\"\"\n",
    "    try:\n",
    "        marks = float(marks)\n",
    "        if 0 <= marks <= 100:\n",
    "            return True\n",
    "    except ValueError:\n",
    "        return False\n",
    "    return False\n",
    "\n"
   ]
  },
  {
   "cell_type": "code",
   "execution_count": 31,
   "metadata": {},
   "outputs": [],
   "source": [
    "def validate_mobile(mobile):\n",
    "    \"\"\"Validate that mobile number contains exactly 10 digits.\"\"\"\n",
    "    if re.match(r\"^\\d{10}$\", mobile):\n",
    "        return True\n",
    "    return False\n"
   ]
  },
  {
   "cell_type": "code",
   "execution_count": null,
   "metadata": {},
   "outputs": [
    {
     "name": "stdout",
     "output_type": "stream",
     "text": [
      "Data saved successfully!\n"
     ]
    }
   ],
   "source": [
    "\n",
    "def collect_data():\n",
    "    \"\"\"Collect user details and store them in a dictionary, then save to file.\"\"\"\n",
    "    name = input(\"Enter your name: \")\n",
    "    if not validate_name(name):\n",
    "        print(\"Invalid name! No special characters allowed.\")\n",
    "        return \n",
    "\n",
    "    marks = input(\"Enter your marks: \")\n",
    "    if not validate_marks(marks):\n",
    "        print(\"Invalid marks! Must be between 0 and 100.\")\n",
    "        return  \n",
    "\n",
    "    mobile = input(\"Enter your mobile number: \")\n",
    "    if not validate_mobile(mobile):\n",
    "        print(\"Invalid mobile number! Must be 10 digits.\")\n",
    "        return \n",
    "\n",
    "    user_data = {\"name\": name, \"marks\": marks, \"mobile\": mobile}\n",
    "\n",
    "    with open(\"user_data.txt\", \"a\") as f:\n",
    "        f.write(str(user_data) + \"\\n\")\n",
    "\n",
    "    print(\"Data saved successfully!\")\n",
    "\n",
    "collect_data()\n"
   ]
  },
  {
   "cell_type": "markdown",
   "metadata": {},
   "source": [
    "18. Segregate file in small , medium and large size in different folder\n",
    "\n",
    "o filesize less than and equal to 10KB is small file\n",
    "\n",
    "o filesize more than 10 KB is the medium file\n",
    "\n",
    "o filesize more than 40 kb is the large file\n",
    "\n",
    "o create the log file"
   ]
  },
  {
   "cell_type": "markdown",
   "metadata": {},
   "source": [
    "20. Find the most repeated word in a file"
   ]
  },
  {
   "cell_type": "code",
   "execution_count": 33,
   "metadata": {},
   "outputs": [
    {
     "name": "stdout",
     "output_type": "stream",
     "text": [
      "File not found. Please provide a valid file path.\n",
      "None\n"
     ]
    }
   ],
   "source": [
    "from collections import Counter\n",
    "\n",
    "def most_repeated_word(file_path):\n",
    "    \"\"\"Find the word with the highest frequency in the given file.\"\"\"\n",
    "    try:\n",
    "        with open(file_path, \"r\") as f:\n",
    "            words = f.read().split()\n",
    "            word_counts = Counter(words)\n",
    "            most_common_word, count = word_counts.most_common(1)[0]\n",
    "            return most_common_word, count\n",
    "    except FileNotFoundError:\n",
    "        print(\"File not found. Please provide a valid file path.\")\n",
    "        return None\n",
    "\n",
    "file_path = input(\"Enter the file path: \")\n",
    "print(most_repeated_word(file_path))\n"
   ]
  },
  {
   "cell_type": "markdown",
   "metadata": {},
   "source": [
    "21. Count occurrences of a word in a file"
   ]
  },
  {
   "cell_type": "code",
   "execution_count": 34,
   "metadata": {},
   "outputs": [
    {
     "name": "stdout",
     "output_type": "stream",
     "text": [
      "{'Error': 'File not found'}\n"
     ]
    }
   ],
   "source": [
    "def count_word_occurrences(word, file_path):\n",
    "    \"\"\"Return a dictionary with the word count in a file.\"\"\"\n",
    "    try:\n",
    "        with open(file_path, \"r\") as f:\n",
    "            text = f.read().lower()\n",
    "            count = text.split().count(word.lower())\n",
    "            return {word: count}\n",
    "    except FileNotFoundError:\n",
    "        return {\"Error\": \"File not found\"}\n",
    "\n",
    "word = input(\"Enter the word to search: \")\n",
    "file_path = input(\"Enter the file path: \")\n",
    "print(count_word_occurrences(word, file_path))\n"
   ]
  },
  {
   "cell_type": "markdown",
   "metadata": {},
   "source": [
    "22. Find all word occurrences in a file"
   ]
  },
  {
   "cell_type": "code",
   "execution_count": 35,
   "metadata": {},
   "outputs": [
    {
     "name": "stdout",
     "output_type": "stream",
     "text": [
      "{'Error': 'File not found'}\n"
     ]
    }
   ],
   "source": [
    "def word_occurrences(file_path):\n",
    "    \"\"\"Return a dictionary with all word counts in a file.\"\"\"\n",
    "    try:\n",
    "        with open(file_path, \"r\") as f:\n",
    "            words = f.read().split()\n",
    "            return dict(Counter(words))\n",
    "    except FileNotFoundError:\n",
    "        return {\"Error\": \"File not found\"}\n",
    "\n",
    "file_path = input(\"Enter the file path: \")\n",
    "print(word_occurrences(file_path))\n"
   ]
  },
  {
   "cell_type": "markdown",
   "metadata": {},
   "source": [
    "23. Convert Dictionary Display Function (Q8) into a Class"
   ]
  },
  {
   "cell_type": "code",
   "execution_count": 38,
   "metadata": {},
   "outputs": [],
   "source": [
    "class DictionaryHandler:\n",
    "    \"\"\"Class to handle dictionary operations.\"\"\"\n",
    "    def __init__(self, data):\n",
    "        self.data = data\n",
    "\n",
    "    def display_keys_values(self):\n",
    "        \"\"\"Display dictionary keys and values in separate lines.\"\"\"\n",
    "        for key, value in self.data.items():\n",
    "            print(f\"Key: {key}, Value: {value}\")\n",
    "\n",
    "\n"
   ]
  },
  {
   "cell_type": "code",
   "execution_count": 37,
   "metadata": {},
   "outputs": [
    {
     "name": "stdout",
     "output_type": "stream",
     "text": [
      "Key: Name, Value: Alice\n",
      "Key: Age, Value: 25\n",
      "Key: City, Value: New York\n"
     ]
    }
   ],
   "source": [
    "# Ex...\n",
    "sample_dict = {\"Name\": \"Alice\", \"Age\": 25, \"City\": \"New York\"}\n",
    "handler = DictionaryHandler(sample_dict)\n",
    "handler.display_keys_values()"
   ]
  },
  {
   "cell_type": "markdown",
   "metadata": {},
   "source": [
    "25. Class for File Reading"
   ]
  },
  {
   "cell_type": "code",
   "execution_count": 40,
   "metadata": {},
   "outputs": [],
   "source": [
    "class FileReader:\n",
    "    \"\"\"Class to handle file reading.\"\"\"\n",
    "    \n",
    "    def __init__(self, file_path):\n",
    "        self.file_path = file_path\n",
    "\n",
    "    def read_file(self):\n",
    "        \"\"\"Read and return file content.\"\"\"\n",
    "        try:\n",
    "            with open(self.file_path, \"r\") as f:\n",
    "                return f.read()\n",
    "        except FileNotFoundError:\n",
    "            return \"File not found\"\n",
    "\n"
   ]
  },
  {
   "cell_type": "code",
   "execution_count": 41,
   "metadata": {},
   "outputs": [
    {
     "name": "stdout",
     "output_type": "stream",
     "text": [
      "File not found\n"
     ]
    }
   ],
   "source": [
    "reader = FileReader(\"TM.txt\")\n",
    "print(reader.read_file())"
   ]
  },
  {
   "cell_type": "code",
   "execution_count": null,
   "metadata": {},
   "outputs": [],
   "source": []
  }
 ],
 "metadata": {
  "kernelspec": {
   "display_name": "Python 3",
   "language": "python",
   "name": "python3"
  },
  "language_info": {
   "codemirror_mode": {
    "name": "ipython",
    "version": 3
   },
   "file_extension": ".py",
   "mimetype": "text/x-python",
   "name": "python",
   "nbconvert_exporter": "python",
   "pygments_lexer": "ipython3",
   "version": "3.12.4"
  }
 },
 "nbformat": 4,
 "nbformat_minor": 2
}
