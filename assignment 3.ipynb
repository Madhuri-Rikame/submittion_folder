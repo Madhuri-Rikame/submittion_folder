{
 "cells": [
  {
   "cell_type": "code",
   "execution_count": 3,
   "metadata": {},
   "outputs": [
    {
     "name": "stdout",
     "output_type": "stream",
     "text": [
      "_\n",
      "        Transaction Receipt   \n",
      "--------------------------------------------\n",
      "      Maharashtra Traffic Police     \n",
      "--------------------------------------------\n",
      "            e-challan status            \n",
      "    Registration number:MH12LD4555 \n",
      "   Date:09/01/2025    Time:13:20:21                                   \n",
      "--------------------------------------------\n",
      "   Sno.        Challan no     Amount                                  \n",
      "    1         NSK001546745    1300                                    \n",
      "    2         NSK001546746     250                                    \n",
      "--------------------------------------------\n",
      "  Total                       1550                     \n",
      "_\n"
     ]
    }
   ],
   "source": [
    "##Print E-challan\n",
    "print(\"_\")\n",
    "print(\"{:^30}\".format(\"       Transaction Receipt \"))\n",
    "print(\"--------------------------------------------\")\n",
    "print(\"{:^10}\".format(\"      Maharashtra Traffic Police     \"))\n",
    "print(\"--------------------------------------------\")\n",
    "print(\"{:^40}\".format(\"  e-challan status  \"))\n",
    "print(\"{:^20}\".format(\"    Registration number:MH12LD4555 \"))\n",
    "print((\"{:^20}\".format(\" Date:09/01/2025\" )) + (\"{:50}\".format(\"  Time:13:20:21\"  )))\n",
    "print(\"--------------------------------------------\")\n",
    "print((\"{:^10}\".format(\"Sno.\")) +(\"{:^20}\".format(\"Challan no\"))+ (\"{:40}\".format(\"Amount\")))\n",
    "print((\"{:^10}\".format(\" 1 \")) +(\"{:^20}\".format(\"NSK001546745\"))+ (\"{:40}\".format(\"1300\")))\n",
    "print((\"{:^10}\".format(\" 2 \")) +(\"{:^20}\".format(\"NSK001546746\"))+ (\"{:40}\".format(\" 250\")))\n",
    "\n",
    "print(\"--------------------------------------------\")\n",
    "print((\"{:^10}\".format(\"Total\"))+(\"{:^45}\".format(\"1550\")))\n",
    "print(\"_\")"
   ]
  }
 ],
 "metadata": {
  "kernelspec": {
   "display_name": "Python 3",
   "language": "python",
   "name": "python3"
  },
  "language_info": {
   "codemirror_mode": {
    "name": "ipython",
    "version": 3
   },
   "file_extension": ".py",
   "mimetype": "text/x-python",
   "name": "python",
   "nbconvert_exporter": "python",
   "pygments_lexer": "ipython3",
   "version": "3.12.4"
  }
 },
 "nbformat": 4,
 "nbformat_minor": 2
}
