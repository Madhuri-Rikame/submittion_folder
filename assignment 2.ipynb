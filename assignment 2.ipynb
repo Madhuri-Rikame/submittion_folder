{
 "cells": [
  {
   "cell_type": "markdown",
   "metadata": {},
   "source": [
    "# Question.2\n",
    "User will enter the start date and end date. Ask user to enter the task to be done on weekdays. If it is weekend then no task should be allotted. "
   ]
  },
  {
   "cell_type": "code",
   "execution_count": 12,
   "metadata": {},
   "outputs": [
    {
     "name": "stdout",
     "output_type": "stream",
     "text": [
      "\n",
      "tasks:\n",
      "{'2002-02-02': 'no task (Weekend)', '2002-02-03': 'no task (Weekend)', '2002-02-04': 'sql', '2002-02-05': 'python', '2002-02-06': 'presentation'}\n"
     ]
    }
   ],
   "source": [
    "from datetime import datetime, timedelta\n",
    "start_date=datetime.strptime(input(\"enter date :\"), \"%Y-%m-%d\")\n",
    "end_date=datetime.strptime(input(\"enter date :\"), \"%Y-%m-%d\")\n",
    "\n",
    "current_date = start_date\n",
    "tasks = {}\n",
    "while current_date <= end_date:\n",
    "    if current_date.weekday() < 5: \n",
    "        task = input(f\"enter task {current_date.strftime('%A, %d %B %Y')}: \")\n",
    "        tasks[current_date.strftime('%Y-%m-%d')]=task\n",
    "    else:  \n",
    "        tasks[current_date.strftime('%Y-%m-%d')]=\"no task (Weekend)\"\n",
    "    \n",
    "    current_date += timedelta(days=1)\n",
    "\n",
    "print(\"\\ntasks:\")\n",
    "print(tasks)"
   ]
  }
 ],
 "metadata": {
  "kernelspec": {
   "display_name": "Python 3",
   "language": "python",
   "name": "python3"
  },
  "language_info": {
   "codemirror_mode": {
    "name": "ipython",
    "version": 3
   },
   "file_extension": ".py",
   "mimetype": "text/x-python",
   "name": "python",
   "nbconvert_exporter": "python",
   "pygments_lexer": "ipython3",
   "version": "3.12.4"
  }
 },
 "nbformat": 4,
 "nbformat_minor": 2
}
